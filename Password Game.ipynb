{
 "cells": [
  {
   "cell_type": "code",
   "execution_count": 1,
   "id": "066471ed",
   "metadata": {},
   "outputs": [],
   "source": [
    "available_lists = {\n",
    "    \"Nature\": {\"forest\": [\"trees\", \"wildlife\", \"hiking\", \"moss\"], \n",
    "                    \"mountain\": [\"rocky\", \"climbing\", \"summit\", \"cliffs\"], \n",
    "                    \"cave\": [\"darkness\",\"underground\",\"bats\", \"stalactites\"],\n",
    "                    \"ocean\": [\"waves\", \"beach\", \"saltwater\", \"dolphins\"],\n",
    "                    \"desert\": [\"dry\", \"sand\", \"dunes\", \"barren\"]}\n",
    "}"
   ]
  },
  {
   "cell_type": "code",
   "execution_count": 2,
   "id": "9fde22f6",
   "metadata": {},
   "outputs": [],
   "source": [
    "#welcome to password!\n",
    "#explain the rules\n",
    "#pick a word category\n",
    "#it will say 1/5 for how many words are in that list, and your score sofar. maximum achievable points with 5 words is 20. \n",
    "#could make it so it is maximum points is number of words times 4\n",
    "#it will say the first letter of the word, and how many letters are in the word.\n",
    "#it will then say the first clue. it will give you the chance to guess, or you can type into it \"next\"\n",
    "#if you get it on the first clue, you get 4 points. second clue, 3 points, third clue 2 points, last clue 1 point, dont get it 0\n",
    "#it will then say how many points you got that word, and display the next word\n",
    "#repeat until all words gone. \n",
    "#it will then say your final score. "
   ]
  },
  {
   "cell_type": "code",
   "execution_count": 3,
   "id": "2e7cd9c3",
   "metadata": {},
   "outputs": [],
   "source": [
    "def display_score(score, desired_list):\n",
    "    points_available = ((len(desired_list) - 1)*4)\n",
    "    print(f\"{score}/{points_available}\")           \n",
    "        \n",
    "def play_the_game(chosen_list):\n",
    "    score = 0\n",
    "    number_of_words = len(chosen_list)\n",
    "    word_dict = available_lists[chosen_list]\n",
    "    for word, clues in word_dict.items():\n",
    "        current_clue = 0\n",
    "        guessed_word = False   \n",
    "        while current_clue < len(clues) and not guessed_word:    \n",
    "            display_score(score, chosen_list)\n",
    "            hidden_word = (word[0] + ((len(word) - 1) * \" _ \"))\n",
    "            print(hidden_word)\n",
    "            print(clues[current_clue])\n",
    "            attempted_guess = input(\"What is your guess? \")\n",
    "            if attempted_guess == word:\n",
    "                print(\"Great job!\")\n",
    "                score = score + (4 - current_clue)\n",
    "                guessed_word = True\n",
    "            else:\n",
    "                print(\"Sorry, that is not the word. Here is the next clue.\")\n",
    "                current_clue = current_clue + 1\n",
    "        if not guessed_word:\n",
    "            print(f\"Sorry you did not guess the word. The correct word was '{word}'.\")\n",
    "            print(\"Next word:\\n\")\n",
    "        else:\n",
    "            print(\"Next word:\\n\")\n",
    "    display_score(score, chosen_list)\n",
    "    print(\"Game over! Thanks for playing!\")\n",
    "                \n",
    "def gamelogic():\n",
    "    player_name = input(\"Welcome to Password! What is your name?\")\n",
    "    print(f\"Hello {player_name}! Password is a word-guessing game where you will try to guess a secret word based on one-word\")\n",
    "    print(\"clues. You will be given the first letter of the word to guess, and a clue. If you can guess the word, then you get\")\n",
    "    print(\"full points. If you guess wrong, you will be given the next clue, and it will be worth one less point. If you are\")\n",
    "    print(\"unable to guess the word, then you get 0 points, and the next word to be guessed appears. Have fun!\")\n",
    "    print(\"\")\n",
    "    print(\"Here are the available quizes.\")\n",
    "    for lists in available_lists:\n",
    "        print(lists)\n",
    "    desired_list = input(\"Which list would you like to play? \")\n",
    "    play_the_game(desired_list)\n",
    "        "
   ]
  },
  {
   "cell_type": "code",
   "execution_count": null,
   "id": "9566f149",
   "metadata": {},
   "outputs": [],
   "source": [
    "gamelogic()"
   ]
  },
  {
   "cell_type": "code",
   "execution_count": null,
   "id": "a4eecd94",
   "metadata": {},
   "outputs": [],
   "source": []
  },
  {
   "cell_type": "code",
   "execution_count": null,
   "id": "c38ed1dd",
   "metadata": {},
   "outputs": [],
   "source": []
  },
  {
   "cell_type": "code",
   "execution_count": null,
   "id": "ebd40651",
   "metadata": {},
   "outputs": [],
   "source": []
  }
 ],
 "metadata": {
  "kernelspec": {
   "display_name": "Python 3 (ipykernel)",
   "language": "python",
   "name": "python3"
  },
  "language_info": {
   "codemirror_mode": {
    "name": "ipython",
    "version": 3
   },
   "file_extension": ".py",
   "mimetype": "text/x-python",
   "name": "python",
   "nbconvert_exporter": "python",
   "pygments_lexer": "ipython3",
   "version": "3.11.4"
  }
 },
 "nbformat": 4,
 "nbformat_minor": 5
}
